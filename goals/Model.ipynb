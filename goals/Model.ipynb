{
  "nbformat": 4,
  "nbformat_minor": 0,
  "metadata": {
    "colab": {
      "name": "Model.ipynb",
      "provenance": [],
      "collapsed_sections": []
    },
    "kernelspec": {
      "name": "python3",
      "display_name": "Python 3"
    }
  },
  "cells": [
    {
      "cell_type": "code",
      "metadata": {
        "id": "V6Fzm6wNzMrO"
      },
      "source": [
        "import numpy as np\r\n",
        "import pandas as pd\r\n",
        "from sklearn.model_selection import train_test_split\r\n",
        "from sklearn.ensemble import RandomForestRegressor\r\n",
        "import pickle"
      ],
      "execution_count": 1,
      "outputs": []
    },
    {
      "cell_type": "code",
      "metadata": {
        "id": "KHSwuiw7zyji"
      },
      "source": [
        "df = pd.read_csv(\"KAG_conversion_data.csv\")"
      ],
      "execution_count": 2,
      "outputs": []
    },
    {
      "cell_type": "code",
      "metadata": {
        "id": "rp2xWEhq1SZg"
      },
      "source": [
        "df = df[df[\"xyz_campaign_id\"]==1178]\r\n",
        "df[\"CVR\"] = df[\"Approved_Conversion\"] / df[\"Clicks\"]\r\n",
        "df[\"CPC\"] = df[\"Spent\"] / df[\"Clicks\"]\r\n",
        "appConVal = df[\"Approved_Conversion\"] * 50\r\n",
        "df[\"ROAS\"] = appConVal / df[\"Spent\"]"
      ],
      "execution_count": 3,
      "outputs": []
    },
    {
      "cell_type": "code",
      "metadata": {
        "id": "jtu-xh2m0LZ5"
      },
      "source": [
        "df_filt = df[df[\"ROAS\"] != float('inf')]\r\n",
        "df_filt = df_filt.dropna(axis=0)"
      ],
      "execution_count": 4,
      "outputs": []
    },
    {
      "cell_type": "code",
      "metadata": {
        "id": "zJ9CzJfP0jFR"
      },
      "source": [
        "from sklearn.preprocessing import LabelEncoder\r\n",
        "encoder=LabelEncoder()\r\n",
        "encoder.fit(df_filt[\"gender\"])\r\n",
        "df_filt[\"gender\"]=encoder.transform(df_filt[\"gender\"])\r\n",
        "encoder.fit(df_filt[\"age\"])\r\n",
        "df_filt[\"age\"]=encoder.transform(df_filt[\"age\"])"
      ],
      "execution_count": 5,
      "outputs": []
    },
    {
      "cell_type": "code",
      "metadata": {
        "id": "SC3jB2H90w25"
      },
      "source": [
        "x=np.array(df_filt.drop(labels=[\"ad_id\", \"xyz_campaign_id\", \"fb_campaign_id\", \"Impressions\", \"Clicks\", \"Spent\", \"Total_Conversion\", \"Approved_Conversion\", \"CVR\"], axis=1))\r\n",
        "y=np.array(df_filt[\"CVR\"])"
      ],
      "execution_count": 6,
      "outputs": []
    },
    {
      "cell_type": "code",
      "metadata": {
        "id": "0WCKZPnw0_vP"
      },
      "source": [
        "y=y.reshape(len(y),1)\r\n",
        "from sklearn.impute import SimpleImputer\r\n",
        "my_imp = SimpleImputer()\r\n",
        "y_imp = my_imp.fit_transform(y)"
      ],
      "execution_count": 7,
      "outputs": []
    },
    {
      "cell_type": "code",
      "metadata": {
        "id": "ZUm_gGal6ORG"
      },
      "source": [
        "from sklearn.preprocessing import StandardScaler\r\n",
        "x_sc = StandardScaler()\r\n",
        "x = x_sc.fit_transform(x)\r\n",
        "x_imp = my_imp.fit_transform(x)"
      ],
      "execution_count": 8,
      "outputs": []
    },
    {
      "cell_type": "code",
      "metadata": {
        "id": "SoHHQxiZ6QL4"
      },
      "source": [
        "x_train, x_test, y_train, y_test = train_test_split(x_imp,y_imp,test_size=0.2, random_state=42)"
      ],
      "execution_count": 9,
      "outputs": []
    },
    {
      "cell_type": "code",
      "metadata": {
        "colab": {
          "base_uri": "https://localhost:8080/"
        },
        "id": "2bzIho6p6X_1",
        "outputId": "00df8955-2f8f-4c59-a5e0-a11774d1329c"
      },
      "source": [
        "from sklearn.ensemble import RandomForestRegressor\r\n",
        "rf = RandomForestRegressor(random_state=0)\r\n",
        "rf.fit(x_train, y_train)"
      ],
      "execution_count": 10,
      "outputs": [
        {
          "output_type": "stream",
          "text": [
            "/usr/local/lib/python3.6/dist-packages/ipykernel_launcher.py:3: DataConversionWarning: A column-vector y was passed when a 1d array was expected. Please change the shape of y to (n_samples,), for example using ravel().\n",
            "  This is separate from the ipykernel package so we can avoid doing imports until\n"
          ],
          "name": "stderr"
        },
        {
          "output_type": "execute_result",
          "data": {
            "text/plain": [
              "RandomForestRegressor(bootstrap=True, ccp_alpha=0.0, criterion='mse',\n",
              "                      max_depth=None, max_features='auto', max_leaf_nodes=None,\n",
              "                      max_samples=None, min_impurity_decrease=0.0,\n",
              "                      min_impurity_split=None, min_samples_leaf=1,\n",
              "                      min_samples_split=2, min_weight_fraction_leaf=0.0,\n",
              "                      n_estimators=100, n_jobs=None, oob_score=False,\n",
              "                      random_state=0, verbose=0, warm_start=False)"
            ]
          },
          "metadata": {
            "tags": []
          },
          "execution_count": 10
        }
      ]
    },
    {
      "cell_type": "code",
      "metadata": {
        "id": "5HMA2Gja6190"
      },
      "source": [
        "y_pred = rf.predict(x_test)"
      ],
      "execution_count": 11,
      "outputs": []
    },
    {
      "cell_type": "code",
      "metadata": {
        "colab": {
          "base_uri": "https://localhost:8080/"
        },
        "id": "sluLzTHd656h",
        "outputId": "fa9979f9-85a3-4d73-c45b-8616dfc75078"
      },
      "source": [
        "rf.score(x_test,y_test)"
      ],
      "execution_count": 12,
      "outputs": [
        {
          "output_type": "execute_result",
          "data": {
            "text/plain": [
              "0.9579623415149814"
            ]
          },
          "metadata": {
            "tags": []
          },
          "execution_count": 12
        }
      ]
    },
    {
      "cell_type": "code",
      "metadata": {
        "id": "63SmQsGn7BKK"
      },
      "source": [
        "import pickle\r\n",
        "pickle.dump(rf, open('model.pkl', 'wb'))"
      ],
      "execution_count": 13,
      "outputs": []
    }
  ]
}